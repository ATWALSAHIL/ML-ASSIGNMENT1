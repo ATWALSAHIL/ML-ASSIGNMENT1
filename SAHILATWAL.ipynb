{
  "nbformat": 4,
  "nbformat_minor": 0,
  "metadata": {
    "colab": {
      "name": "SAHILATWAL.ipynb",
      "provenance": [],
      "collapsed_sections": []
    },
    "kernelspec": {
      "name": "python3",
      "display_name": "Python 3"
    },
    "language_info": {
      "name": "python"
    }
  },
  "cells": [
    {
      "cell_type": "code",
      "execution_count": 1,
      "metadata": {
        "id": "43vtgfUCbe_q"
      },
      "outputs": [],
      "source": [
        "#Assignment-1\n",
        "#NAME: SAHIL ATWAL\n",
        "#ROLLNO: 102183020\n",
        "#GROUP: 3COE24"
      ]
    },
    {
      "cell_type": "code",
      "source": [
        "import numpy as np\n",
        "#Q1 (A)\n",
        "#Reverse the NumPy array\n",
        "arr = np.array([1, 2, 3, 6, 4, 5])\n",
        "r =arr[::-1]\n",
        "print(r)"
      ],
      "metadata": {
        "colab": {
          "base_uri": "https://localhost:8080/",
          "height": 0
        },
        "id": "V6jZZJiebqje",
        "outputId": "cf923c34-0d32-45b0-a39c-bc6bdf3ed77a"
      },
      "execution_count": 2,
      "outputs": [
        {
          "output_type": "stream",
          "name": "stdout",
          "text": [
            "[5 4 6 3 2 1]\n"
          ]
        }
      ]
    },
    {
      "cell_type": "code",
      "source": [
        "#Q1 (B)\n",
        "#Flatten the NumPy arr using any two NumPy in-built methods\n",
        "array1 = np.array([[1, 2, 3], [2, 4, 5], [1, 2, 3]])\n",
        "print(array1.flatten())\n",
        "print(array1.ravel())"
      ],
      "metadata": {
        "colab": {
          "base_uri": "https://localhost:8080/",
          "height": 0
        },
        "id": "N3pg8jXBcoTb",
        "outputId": "2ef3f714-f463-433d-b2f5-df3eb73cf7da"
      },
      "execution_count": 11,
      "outputs": [
        {
          "output_type": "stream",
          "name": "stdout",
          "text": [
            "[1 2 3 2 4 5 1 2 3]\n",
            "[1 2 3 2 4 5 1 2 3]\n"
          ]
        }
      ]
    },
    {
      "cell_type": "code",
      "source": [
        "#Q1 (C)\n",
        "#Compare the following numpy arrays:\n",
        "arr1 = np.array([[1, 2], [3, 4]])\n",
        "arr2 = np.array([[1, 2], [3, 4]])\n",
        "print(np.array_equal(arr1,arr2))\n",
        "print(np.allclose(arr1,arr2))"
      ],
      "metadata": {
        "colab": {
          "base_uri": "https://localhost:8080/",
          "height": 0
        },
        "id": "Q03IgGz3dbOf",
        "outputId": "e12e30a5-e2fc-4298-cff9-a7ff896deae5"
      },
      "execution_count": 9,
      "outputs": [
        {
          "output_type": "stream",
          "name": "stdout",
          "text": [
            "True\n",
            "True\n"
          ]
        }
      ]
    },
    {
      "cell_type": "code",
      "source": [
        "#Q1 (D)\n",
        "#Find the most frequent value and their indice(s) in the following arrays:\n",
        "x = np.array([1,2,3,4,5,1,2,1,1,1])\n",
        "y = np.array([1, 1, 1, 2, 3, 4, 2, 4, 3, 3, ])\n",
        "z=np.bincount(x).argmax()\n",
        "t=np.bincount(y).argmax()\n",
        "print(np.where((x == z)))\n",
        "print(np.where((x == t)))"
      ],
      "metadata": {
        "colab": {
          "base_uri": "https://localhost:8080/",
          "height": 0
        },
        "id": "klJ1Fl5vfIz5",
        "outputId": "7e7e8b65-3a8a-4107-bfba-4c2b4db823f6"
      },
      "execution_count": 57,
      "outputs": [
        {
          "output_type": "stream",
          "name": "stdout",
          "text": [
            "(array([0, 5, 7, 8, 9]),)\n",
            "(array([0, 5, 7, 8, 9]),)\n"
          ]
        }
      ]
    },
    {
      "cell_type": "code",
      "source": [
        "# Q1 (E)\n",
        "#For the array find\n",
        "array2 = np.matrix('[4, 1, 9; 12, 3, 1; 4, 5, 6]')\n",
        "#i. Sum of all elements\n",
        "print(sum([np.sum(array2) for array in array2]))\n",
        "#ii. Sum of all elements row-wise\n",
        "print(array2.sum(axis=1))\n",
        "#iii. Sum of all elements column-wise\n",
        "print(array2.sum(axis=0))"
      ],
      "metadata": {
        "colab": {
          "base_uri": "https://localhost:8080/",
          "height": 0
        },
        "id": "Mtch4eVpfxRQ",
        "outputId": "d961bf83-3020-4365-998f-a7986da16a61"
      },
      "execution_count": 36,
      "outputs": [
        {
          "output_type": "stream",
          "name": "stdout",
          "text": [
            "135\n",
            "[[14]\n",
            " [16]\n",
            " [15]]\n",
            "[[20  9 16]]\n"
          ]
        }
      ]
    },
    {
      "cell_type": "code",
      "source": [
        "#NAME:SAHIL ATWAL\n",
        "#ROLLNO:102183020\n",
        "#Q1 (F)\n",
        "#For the matrix find\n",
        "n_array = np.array([[55, 25, 15],[30, 44, 2],[11, 45, 77]])\n",
        "#i. Sum of diagonal elements\n",
        "print(np.trace(n_array))\n",
        "#ii. Eigen values of matrix\n",
        "print(n_array[:,-1])\n",
        "#iii. Eigen vectors of matrix\n",
        "print(n_array[:,0])\n",
        "#iv. Inverse of matrix\n",
        "print(np.linalg.inv(n_array))\n",
        "#v. Determinant of matrix\n",
        "print(np.linalg.det(n_array))"
      ],
      "metadata": {
        "colab": {
          "base_uri": "https://localhost:8080/",
          "height": 0
        },
        "id": "JITu-x7qf-nm",
        "outputId": "6cc637e3-e544-420d-cb1c-27075be7bf53"
      },
      "execution_count": 42,
      "outputs": [
        {
          "output_type": "stream",
          "name": "stdout",
          "text": [
            "176\n",
            "[15  2 77]\n",
            "[55 30 11]\n",
            "[[ 0.02404141 -0.00911212 -0.00444671]\n",
            " [-0.01667882  0.02966905  0.0024785 ]\n",
            " [ 0.00631287 -0.01603732  0.01217379]]\n",
            "137180.0000000001\n"
          ]
        }
      ]
    },
    {
      "cell_type": "code",
      "source": [
        "#Q1 (G)\n",
        "#Multiply the following matrices and also find covariance between matrices using NumPy:\n",
        "p = [[1, 2], [2, 3]] \n",
        "q = [[4, 5], [6, 7]]\n",
        "print(np.matmul(p,q))\n",
        "print(np.cov(p))\n",
        "print(np.cov(q))\n",
        "p1 = [[1, 2], [2, 3], [4, 5]] \n",
        "q1 = [[4, 5, 1], [6, 7, 2]]\n",
        "print(np.matmul(p1,q1))\n",
        "print(np.cov(p1))\n",
        "print(np.cov(q1))"
      ],
      "metadata": {
        "colab": {
          "base_uri": "https://localhost:8080/",
          "height": 0
        },
        "id": "LXpxpaCyqY_S",
        "outputId": "ad6914e8-c3d2-4108-fef1-d4ac961a81e4"
      },
      "execution_count": 47,
      "outputs": [
        {
          "output_type": "stream",
          "name": "stdout",
          "text": [
            "[[16 19]\n",
            " [26 31]]\n",
            "[[0.5 0.5]\n",
            " [0.5 0.5]]\n",
            "[[0.5 0.5]\n",
            " [0.5 0.5]]\n",
            "[[16 19  5]\n",
            " [26 31  8]\n",
            " [46 55 14]]\n",
            "[[0.5 0.5 0.5]\n",
            " [0.5 0.5 0.5]\n",
            " [0.5 0.5 0.5]]\n",
            "[[4.33333333 5.5       ]\n",
            " [5.5        7.        ]]\n"
          ]
        }
      ]
    },
    {
      "cell_type": "code",
      "source": [
        "#Q1 (H)\n",
        "#For the matrices find inner, outer and cartesian product\n",
        "x = np.array([[2, 3, 4], [3, 2, 9]]);\n",
        "y = np.array([[1, 5, 0], [5, 10, 3]])\n",
        "#inner product\n",
        "print(np.inner(x,y))\n",
        "#outer product\n",
        "print(np.outer(x,y))\n",
        "#cartesian product\n",
        "print(np.cross(x,y))"
      ],
      "metadata": {
        "colab": {
          "base_uri": "https://localhost:8080/",
          "height": 0
        },
        "id": "2Tk5ip9Brdei",
        "outputId": "4edbf848-6f42-4f28-9d27-8172f298b1c6"
      },
      "execution_count": 51,
      "outputs": [
        {
          "output_type": "stream",
          "name": "stdout",
          "text": [
            "[[17 52]\n",
            " [13 62]]\n",
            "[[ 2 10  0 10 20  6]\n",
            " [ 3 15  0 15 30  9]\n",
            " [ 4 20  0 20 40 12]\n",
            " [ 3 15  0 15 30  9]\n",
            " [ 2 10  0 10 20  6]\n",
            " [ 9 45  0 45 90 27]]\n",
            "[[-20   4   7]\n",
            " [-84  36  20]]\n"
          ]
        }
      ]
    },
    {
      "cell_type": "code",
      "source": [
        "#Q2 (A)\n",
        "#For the array find\n",
        "array = np.array([[1, -2, 3],[-4, 5, -6]])\n",
        "#Find element-wise absolute value\n",
        "print(np.absolute(array))\n",
        "# Find the 25th, 50th, and 75th percentile of flattened array, for each column, for each  row.\n",
        "#for row\n",
        "print(np.percentile(array,25,axis=1))\n",
        "print(np.percentile(array,50,axis=1))\n",
        "print(np.percentile(array,75,axis=1))\n",
        "#for column\n",
        "print(np.percentile(array,25,axis=0))\n",
        "print(np.percentile(array,50,axis=0))\n",
        "print(np.percentile(array,75,axis=0))\n",
        "#Mean, Median and Standard Deviation of flattened array, of each column, and  each row\n",
        "#for col\n",
        "print(np.mean(array,axis=0))\n",
        "print(np.median(array,axis=0))\n",
        "print(np.std(array,axis=0))\n",
        "#for row\n",
        "print(np.mean(array,axis=1))\n",
        "print(np.median(array,axis=1))\n",
        "print(np.std(array,axis=1))"
      ],
      "metadata": {
        "colab": {
          "base_uri": "https://localhost:8080/",
          "height": 0
        },
        "id": "9LAvjpUtvMu7",
        "outputId": "1c981ee8-cf33-42e7-fc35-a18bd81250b8"
      },
      "execution_count": 60,
      "outputs": [
        {
          "output_type": "stream",
          "name": "stdout",
          "text": [
            "[[1 2 3]\n",
            " [4 5 6]]\n",
            "[-0.5 -5. ]\n",
            "[ 1. -4.]\n",
            "[2.  0.5]\n",
            "[-2.75 -0.25 -3.75]\n",
            "[-1.5  1.5 -1.5]\n",
            "[-0.25  3.25  0.75]\n",
            "[-1.5  1.5 -1.5]\n",
            "[-1.5  1.5 -1.5]\n",
            "[2.5 3.5 4.5]\n",
            "[ 0.66666667 -1.66666667]\n",
            "[ 1. -4.]\n",
            "[2.05480467 4.78423336]\n"
          ]
        }
      ]
    },
    {
      "cell_type": "code",
      "source": [
        "#Q2 (B)\n",
        "#For the array Find floor, ceiling  and truncated value, rounded values\n",
        "a = np.array([-1.8, -1.6, -0.5, 0.5,1.6, 1.8, 3.0])\n",
        "print(np.floor(a))\n",
        "print(np.ceil(a))\n",
        "print(np.trunc(a))\n",
        "print(np.round(a))"
      ],
      "metadata": {
        "colab": {
          "base_uri": "https://localhost:8080/",
          "height": 0
        },
        "id": "9763LA2wyVtW",
        "outputId": "edbb1f53-5520-40c1-8f0b-5dbb625f9977"
      },
      "execution_count": 65,
      "outputs": [
        {
          "output_type": "stream",
          "name": "stdout",
          "text": [
            "[-2. -2. -1.  0.  1.  1.  3.]\n",
            "[-1. -1. -0.  1.  2.  2.  3.]\n",
            "[-1. -1. -0.  0.  1.  1.  3.]\n",
            "[-2. -2. -0.  0.  2.  2.  3.]\n"
          ]
        }
      ]
    },
    {
      "cell_type": "code",
      "source": [
        "import numpy as np \n",
        "#Q3 (A)\n",
        "#Based on Searching and Sorting for the array\n",
        "array = np.array([10, 52, 62, 16, 16, 54, 453])\n",
        "#sort the array\n",
        "print(np.sort(array))\n",
        "# Indices of sorted array \n",
        "indices = np.argsort(array)\n",
        "print(indices)\n",
        "# 4 smallest elements  \n",
        "arr1 = np.sort(array)\n",
        "print(arr1[:4])\n",
        "#5 largest elements  \n",
        "print(arr1[-5 : ])"
      ],
      "metadata": {
        "colab": {
          "base_uri": "https://localhost:8080/",
          "height": 0
        },
        "id": "RRDKNPlUizcH",
        "outputId": "8f2e9fd6-c031-4aac-ea3d-2bc667d17a47"
      },
      "execution_count": 30,
      "outputs": [
        {
          "output_type": "stream",
          "name": "stdout",
          "text": [
            "[ 10  16  16  52  54  62 453]\n",
            "[0 3 4 1 5 2 6]\n",
            "[10 16 16 52]\n",
            "[ 16  52  54  62 453]\n"
          ]
        }
      ]
    },
    {
      "cell_type": "code",
      "source": [
        "#Q3 (B)\n",
        "# For the array\n",
        "# Integer elements only \n",
        "#  Float elements only  \n",
        "def isInt(num):\n",
        "    return np.equal(np.mod(num, 1), 0)\n",
        "\n",
        "array = np.array([1.0, 1.2, 2.2, 2.0, 3.0, 2.0])\n",
        "\n",
        "for num in array:\n",
        "    if isInt(num):\n",
        "        print(num, \"is an integer\")\n",
        "    else:\n",
        "      print(num,\"is float\")"
      ],
      "metadata": {
        "colab": {
          "base_uri": "https://localhost:8080/"
        },
        "id": "bH48fo5YnXmb",
        "outputId": "00031131-fb46-4d01-d9d4-84a4e9714252"
      },
      "execution_count": 58,
      "outputs": [
        {
          "output_type": "stream",
          "name": "stdout",
          "text": [
            "1.0 is an integer\n",
            "1.2 is float\n",
            "2.2 is float\n",
            "2.0 is an integer\n",
            "3.0 is an integer\n",
            "2.0 is an integer\n"
          ]
        }
      ]
    },
    {
      "cell_type": "code",
      "source": [
        "# Q4 (A) AND (B)\n",
        "#Write a function named img_to_array(path) that reads an image from a specified path and\n",
        "#save it as text file on local machine? (Note: use separate cases for RGB and Grey Scale  images)\n",
        "#Load the saved file into jupyter notebook? \n",
        "#NAME:SAHIL ATWAL\n",
        "#ROLLNO:102183020\n",
        "from PIL import Image
         "from numpy import asarray"
         "def img_to_array():"
            "image = Image.open('th.jpg')"
            "data = asarray(image)"
            "print(type(data))"
             "print(data.shape)"
             "image2 = Image.fromarray(data)"
             "print(type(image2))"
             "print(image2.mode)"
             "print(image2.size)"
             "print(data)"
             "with open("sample.txt", "w+") as f:"
                "a = f.read()"
                "f.write(str(data))"

            "img_to_array()"
            "im = np.array(Image.open('th.jpg').convert('L'))"
            "print(type(im))"
           "gr_im= Image.fromarray(im).save('gr_th.jpg')","
      
      ],
      "metadata": {
        "id": "StfypI36tq0V"
      },
      "execution_count": null,
      "outputs": []
    },
    {
      "cell_type": "code",
      "source": [
        "#Assignment-1\n",
        "#NAME: SAHIL ATWAL\n",
        "#ROLLNO: 102183020\n",
        "#GROUP: 3COE24"
      ],
      "metadata": {
        "id": "MUsdeljhvY0u"
      },
      "execution_count": null,
      "outputs": []
    }
  ]
}
